{
 "cells": [
  {
   "cell_type": "markdown",
   "id": "9697cc50",
   "metadata": {},
   "source": [
    "# 1번 전화 번호 가려주는 프로그램"
   ]
  },
  {
   "cell_type": "code",
   "execution_count": 13,
   "id": "bc711c52",
   "metadata": {},
   "outputs": [],
   "source": [
    "numbers = '010-56784-12453'"
   ]
  },
  {
   "cell_type": "code",
   "execution_count": 14,
   "id": "f41493e4",
   "metadata": {},
   "outputs": [],
   "source": [
    "def change_num(nums):\n",
    "    answer = nums.replace(nums[-5:],'xxxxx')\n",
    "    return answer"
   ]
  },
  {
   "cell_type": "code",
   "execution_count": 15,
   "id": "bdc6c83e",
   "metadata": {},
   "outputs": [
    {
     "data": {
      "text/plain": [
       "'010-13579-xxxxx'"
      ]
     },
     "execution_count": 15,
     "metadata": {},
     "output_type": "execute_result"
    }
   ],
   "source": [
    "change_num('010-13579-24688')"
   ]
  },
  {
   "cell_type": "markdown",
   "id": "ae19b18b",
   "metadata": {},
   "source": [
    "# 2번 리스트 평탄화"
   ]
  },
  {
   "cell_type": "code",
   "execution_count": 16,
   "id": "7d5fa2a0",
   "metadata": {},
   "outputs": [],
   "source": [
    "def flatten(data):\n",
    "    output = []  # 빈 리스트를 만듭니다.\n",
    "    for item in data:\n",
    "        if type(item) == list:      #list인지 확인\n",
    "            output += flatten(item)     #재귀적 탐색\n",
    "        else:\n",
    "            output.append(item)     #요소 넣기\n",
    "\n",
    "    return output"
   ]
  },
  {
   "cell_type": "code",
   "execution_count": 17,
   "id": "bc05abdc",
   "metadata": {},
   "outputs": [
    {
     "data": {
      "text/plain": [
       "[2, 5, 8, 4, 7, 1, 3, 9, 6]"
      ]
     },
     "execution_count": 17,
     "metadata": {},
     "output_type": "execute_result"
    }
   ],
   "source": [
    "a=[[2, 5], 8, [[4, 7, 1], 3], 9, 6]\n",
    "flatten(a)"
   ]
  },
  {
   "cell_type": "markdown",
   "id": "61fb75f0",
   "metadata": {},
   "source": [
    "# 3번 10 이하 숫자만 곱해주는 함수"
   ]
  },
  {
   "cell_type": "code",
   "execution_count": 18,
   "id": "4a387168",
   "metadata": {},
   "outputs": [],
   "source": [
    "def mul(*values):\n",
    "    output = 1\n",
    "    for num in values:\n",
    "        if num <= 10:\n",
    "            output *= num\n",
    "        else:\n",
    "            pass\n",
    "    return output"
   ]
  },
  {
   "cell_type": "code",
   "execution_count": 19,
   "id": "977348e1",
   "metadata": {},
   "outputs": [
    {
     "data": {
      "text/plain": [
       "60480"
      ]
     },
     "execution_count": 19,
     "metadata": {},
     "output_type": "execute_result"
    }
   ],
   "source": [
    "mul(2, 3, 4, 5, 7, 8, 9)"
   ]
  },
  {
   "cell_type": "code",
   "execution_count": 20,
   "id": "1ab3c2f5",
   "metadata": {},
   "outputs": [
    {
     "data": {
      "text/plain": [
       "60480"
      ]
     },
     "execution_count": 20,
     "metadata": {},
     "output_type": "execute_result"
    }
   ],
   "source": [
    "mul(2, 3, 4, 5, 7, 8, 9, 11, 15, 20)"
   ]
  },
  {
   "cell_type": "code",
   "execution_count": null,
   "id": "0cbfd465",
   "metadata": {},
   "outputs": [],
   "source": []
  }
 ],
 "metadata": {
  "kernelspec": {
   "display_name": "Python 3 (ipykernel)",
   "language": "python",
   "name": "python3"
  },
  "language_info": {
   "codemirror_mode": {
    "name": "ipython",
    "version": 3
   },
   "file_extension": ".py",
   "mimetype": "text/x-python",
   "name": "python",
   "nbconvert_exporter": "python",
   "pygments_lexer": "ipython3",
   "version": "3.9.13"
  },
  "toc": {
   "base_numbering": 1,
   "nav_menu": {},
   "number_sections": true,
   "sideBar": true,
   "skip_h1_title": false,
   "title_cell": "Table of Contents",
   "title_sidebar": "Contents",
   "toc_cell": false,
   "toc_position": {},
   "toc_section_display": true,
   "toc_window_display": false
  }
 },
 "nbformat": 4,
 "nbformat_minor": 5
}
